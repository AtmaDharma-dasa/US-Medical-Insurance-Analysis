{
 "cells": [
  {
   "cell_type": "markdown",
   "metadata": {},
   "source": [
    "# U.S. Medical Insurance Costs"
   ]
  },
  {
   "cell_type": "markdown",
   "metadata": {},
   "source": [
    "## Objectives\n",
    "\n",
    "use funtions or class methods\n",
    "\n",
    "Find out the average age of the patients in the dataset.\n",
    "\n",
    "Analyze where a majority of the individuals are from.\n",
    "\n",
    "Look at the different costs between smokers vs. non-smokers.\n",
    "\n",
    "create dictionaty with bmi ranges as key and values and dictionary of values\n",
    "\n",
    "Figure out what the average age is for someone who has at least one child in this dataset.\n"
   ]
  },
  {
   "cell_type": "markdown",
   "metadata": {},
   "source": [
    "# Sorting the data"
   ]
  },
  {
   "cell_type": "code",
   "execution_count": 148,
   "metadata": {},
   "outputs": [],
   "source": [
    "#import csv library\n",
    "import csv\n",
    "age = []\n",
    "sex = []\n",
    "bmi = []\n",
    "children = []\n",
    "region = []\n",
    "smoker = []\n",
    "charges = []\n",
    "\n",
    "#import data set and make lists\n",
    "\n",
    "def lstmaker(cs,lst,column):\n",
    "    with open(cs) as csvx:\n",
    "        reader = csv.DictReader(csvx)\n",
    "        for row in reader:\n",
    "         #print(row)\n",
    "         lst.append(row[column])\n",
    "\n",
    "#0\n",
    "lstmaker('insurance.csv',age,\"age\")\n",
    "#1\n",
    "lstmaker('insurance.csv',sex,\"sex\")\n",
    "#2\n",
    "lstmaker('insurance.csv',bmi,\"bmi\")\n",
    "#3\n",
    "lstmaker('insurance.csv',children,\"children\")\n",
    "#4\n",
    "lstmaker('insurance.csv',smoker,\"smoker\")\n",
    "#5\n",
    "lstmaker('insurance.csv',region,\"region\")\n",
    "#6\n",
    "lstmaker('insurance.csv',charges,\"charges\")"
   ]
  },
  {
   "cell_type": "markdown",
   "metadata": {},
   "source": [
    "## Sorting data into dictionary"
   ]
  },
  {
   "cell_type": "code",
   "execution_count": 157,
   "metadata": {},
   "outputs": [],
   "source": [
    "#create dictionary from lists with patient index as keys and dictonarys of values as values\n",
    "patients_lists = [age,sex,bmi,children,smoker,region,charges]\n",
    "\n",
    "\n",
    "def make_dict(lists):\n",
    "    all_patients = {}\n",
    "    for n in (range(0,len(lists[1]))):\n",
    "        all_patients[n] = {\"age\":lists[0][n],\"sex\":lists[1][n],\"bmi\":lists[2][n],\"children\":lists[3][n],\"smoker\":lists[4][n],\"region\":lists[5][n],\"charges\":lists[6][n]}  \n",
    "    return all_patients\n",
    "\n",
    "pati_inf = make_dict(patients_lists)\n",
    "#print(pati_inf)"
   ]
  },
  {
   "cell_type": "markdown",
   "metadata": {},
   "source": [
    "## How many patients are from each location"
   ]
  },
  {
   "cell_type": "code",
   "execution_count": 109,
   "metadata": {},
   "outputs": [
    {
     "name": "stdout",
     "output_type": "stream",
     "text": [
      "{'southwest': 325, 'southeast': 364, 'northwest': 325, 'northeast': 324}\n"
     ]
    }
   ],
   "source": [
    "#Analyze disributution of patients by location\n",
    "\n",
    "def make_location_dict(pat_inf):\n",
    "    location_dict = {}\n",
    "    for pat in pat_inf:\n",
    "        if pat_inf[pat][\"region\"] not in location_dict:\n",
    "            location_dict[pat_inf[pat][\"region\"]] = 1\n",
    "        else:\n",
    "            location_dict[pat_inf[pat][\"region\"]] += 1\n",
    "            \n",
    "    return location_dict\n",
    "\n",
    "location_dict = make_location_dict(pati_inf)\n",
    "print(location_dict)          "
   ]
  },
  {
   "cell_type": "markdown",
   "metadata": {},
   "source": [
    "## Average age of the dataset"
   ]
  },
  {
   "cell_type": "code",
   "execution_count": 110,
   "metadata": {},
   "outputs": [
    {
     "name": "stdout",
     "output_type": "stream",
     "text": [
      "39\n",
      "the average age of the patients in this data set is 39\n"
     ]
    }
   ],
   "source": [
    "# Find out the average age of the patients in the dataset.\n",
    "def find_average_age(pat_inf):\n",
    "    ages = []\n",
    "    for pat in pat_inf:\n",
    "        ages.append(int(pat_inf[pat][\"age\"]))\n",
    "    return sum(ages)/len(ages)\n",
    "        \n",
    "average_age = find_average_age(pati_inf)\n",
    "print(int(average_age))\n",
    "print(\"the average age of the patients in this data set is {:,.0f}\".format(average_age))\n"
   ]
  },
  {
   "cell_type": "markdown",
   "metadata": {},
   "source": [
    "## How much more on average do smokers pay for medical insurance"
   ]
  },
  {
   "cell_type": "code",
   "execution_count": 149,
   "metadata": {},
   "outputs": [
    {
     "name": "stdout",
     "output_type": "stream",
     "text": [
      "smokers spend for insurance on average $23,615.95 more than non-smokers\n"
     ]
    }
   ],
   "source": [
    "#Look at the different costs between smokers vs. non-smokers.\n",
    "\n",
    "def smoke_vs_cost(pat_inf):\n",
    "    smokers_cost = []\n",
    "    non_smokers_cost = []\n",
    "    for pat in pat_inf:\n",
    "        if pat_inf[pat][\"smoker\"] == \"yes\":\n",
    "            smokers_cost.append(int(float(pat_inf[pat][\"charges\"])))\n",
    "        else:\n",
    "            non_smokers_cost.append(int(float(pat_inf[pat][\"charges\"])))\n",
    "    \n",
    "    return sum(smokers_cost)/len(smokers_cost) - sum(non_smokers_cost)/len(non_smokers_cost)\n",
    "    \n",
    "smoke_vs_cost = smoke_vs_cost(pati_inf)\n",
    "#print(smoke_vs_cost)\n",
    "\n",
    "print(\"Smokers spend for insurance on average ${:,.2f} more than non-smokers\".format(smoke_vs_cost))"
   ]
  },
  {
   "cell_type": "markdown",
   "metadata": {},
   "source": [
    "## Analysis of data by bmi ranges"
   ]
  },
  {
   "cell_type": "code",
   "execution_count": 151,
   "metadata": {},
   "outputs": [
    {
     "name": "stdout",
     "output_type": "stream",
     "text": [
      "bmi ranges If your BMI is less than 18.5, it falls within the underweight range.\n",
      "If your BMI is 18.5 to 24.9, it falls within the Healthy Weight range.\n",
      "If your BMI is 25.0 to 29.9, it falls within the overweight range.\n",
      "If your BMI is 30.0 or higher, it falls within the obese range.\n",
      "\n",
      "The bmi_underweight catagory contains; 9 men, 14 women, 5 smokers, and 18 non-smokers \n",
      "The bmi_healthy catagory contains; 105 men, 114 women, 50 smokers, and 169 non-smokers \n",
      "The bmi_overweight catagory contains; 186 men, 191 women, 72 smokers, and 305 non-smokers \n",
      "The bmi_obese catagory contains; 373 men, 334 women, 145 smokers, and 562 non-smokers \n"
     ]
    }
   ],
   "source": [
    "print(\"\"\"bmi ranges If your BMI is less than 18.5, it falls within the underweight range.\n",
    "If your BMI is 18.5 to 24.9, it falls within the Healthy Weight range.\n",
    "If your BMI is 25.0 to 29.9, it falls within the overweight range.\n",
    "If your BMI is 30.0 or higher, it falls within the obese range.\n",
    "\"\"\")\n",
    "#create Dictionary of patients with bmi range as key and dictionary of quamtities as values\n",
    "\n",
    "def bmi_vs_costs(pat_inf):\n",
    "    bmi_ranges = {\"bmi_underweight\":{\"male\":0,\"female\":0,\"smokers\":0,\"non_smokers\":0},\"bmi_healthy\":{\"male\":0,\"female\":0,\"smokers\":0,\"non_smokers\":0},\"bmi_overweight\":{\"male\":0,\"female\":0,\"smokers\":0,\"non_smokers\":0},\"bmi_obese\":{\"male\":0,\"female\":0,\"smokers\":0,\"non_smokers\":0}}\n",
    "    bmi_under = []\n",
    "    bmi_healthy = []\n",
    "    bmi_over = []\n",
    "    bmi_obese = []\n",
    "    \n",
    "    for pat in pat_inf:\n",
    "        if float(pat_inf[pat][\"bmi\"]) < 18.9:\n",
    "            bmi_under.append(float(pat_inf[pat][\"charges\"]))\n",
    "            if pat_inf[pat][\"sex\"] == \"male\":\n",
    "                bmi_ranges[\"bmi_underweight\"][\"male\"] += 1\n",
    "            else:\n",
    "                bmi_ranges[\"bmi_underweight\"][\"female\"] += 1\n",
    "            if pat_inf[pat][\"smoker\"] == \"yes\":\n",
    "                bmi_ranges[\"bmi_underweight\"][\"smokers\"] += 1\n",
    "            else:\n",
    "                bmi_ranges[\"bmi_underweight\"][\"non_smokers\"] += 1   \n",
    "            if pat_inf[pat][\"region\"] not in bmi_ranges[\"bmi_underweight\"]:\n",
    "                bmi_ranges[\"bmi_underweight\"][pat_inf[pat][\"region\"]] = 1\n",
    "            else:\n",
    "                bmi_ranges[\"bmi_underweight\"][pat_inf[pat][\"region\"]] += 1\n",
    "            \n",
    "        if float(pat_inf[pat][\"bmi\"]) > 18.9 and float(pat_inf[pat][\"bmi\"]) < 24.9:\n",
    "            bmi_healthy.append(float(pat_inf[pat][\"charges\"]))\n",
    "            if pat_inf[pat][\"sex\"] == \"male\":\n",
    "                bmi_ranges[\"bmi_healthy\"][\"male\"] += 1\n",
    "            else:\n",
    "                bmi_ranges[\"bmi_healthy\"][\"female\"] += 1\n",
    "            if pat_inf[pat][\"smoker\"] == \"yes\":\n",
    "                bmi_ranges[\"bmi_healthy\"][\"smokers\"] += 1\n",
    "            else:\n",
    "                bmi_ranges[\"bmi_healthy\"][\"non_smokers\"] += 1    \n",
    "            if pat_inf[pat][\"region\"] not in bmi_ranges[\"bmi_healthy\"]:\n",
    "                bmi_ranges[\"bmi_healthy\"][pat_inf[pat][\"region\"]] = 1\n",
    "            else:\n",
    "                bmi_ranges[\"bmi_healthy\"][pat_inf[pat][\"region\"]] += 1 \n",
    "                \n",
    "        if float(pat_inf[pat][\"bmi\"]) > 24.9 and float(pat_inf[pat][\"bmi\"]) < 29.9:\n",
    "            bmi_over.append(float(pat_inf[pat][\"charges\"]))\n",
    "            if pat_inf[pat][\"sex\"] == \"male\":\n",
    "                bmi_ranges[\"bmi_overweight\"][\"male\"] += 1\n",
    "            else:\n",
    "                bmi_ranges[\"bmi_overweight\"][\"female\"] += 1\n",
    "            if pat_inf[pat][\"smoker\"] == \"yes\":\n",
    "                bmi_ranges[\"bmi_overweight\"][\"smokers\"] += 1\n",
    "            else:\n",
    "                bmi_ranges[\"bmi_overweight\"][\"non_smokers\"] += 1\n",
    "            if pat_inf[pat][\"region\"] not in bmi_ranges[\"bmi_overweight\"]:\n",
    "                bmi_ranges[\"bmi_overweight\"][pat_inf[pat][\"region\"]] = 1\n",
    "            else:\n",
    "                bmi_ranges[\"bmi_overweight\"][pat_inf[pat][\"region\"]] += 1      \n",
    "                \n",
    "        if float(pat_inf[pat][\"bmi\"]) >= 30:\n",
    "            bmi_obese.append(float(pat_inf[pat][\"charges\"]))\n",
    "            if pat_inf[pat][\"sex\"] == \"male\":\n",
    "                bmi_ranges[\"bmi_obese\"][\"male\"] += 1\n",
    "            else:\n",
    "                bmi_ranges[\"bmi_obese\"][\"female\"] += 1\n",
    "            if pat_inf[pat][\"smoker\"] == \"yes\":\n",
    "                bmi_ranges[\"bmi_obese\"][\"smokers\"] += 1\n",
    "            else:\n",
    "                bmi_ranges[\"bmi_obese\"][\"non_smokers\"] += 1\n",
    "            if pat_inf[pat][\"region\"] not in bmi_ranges[\"bmi_obese\"]:\n",
    "                bmi_ranges[\"bmi_obese\"][pat_inf[pat][\"region\"]] = 1\n",
    "            else:\n",
    "                bmi_ranges[\"bmi_obese\"][pat_inf[pat][\"region\"]] += 1\n",
    "            \n",
    "            \n",
    "            \n",
    "    bmi_ranges[\"bmi_underweight\"][\"avg_charges\"] = int(sum(bmi_under)/len(bmi_under))\n",
    "    return bmi_ranges\n",
    "bmi_ranges = bmi_vs_costs(pati_inf)\n",
    "#print(bmi_ranges)\n",
    "\n",
    "for k,v in bmi_ranges.items():\n",
    "    \n",
    "    print(\"The {} catagory contains; {} men, {} women, {} smokers, and {} non-smokers \".format(k,v[\"male\"],v[\"female\"],v[\"smokers\"],v[\"non_smokers\"]))"
   ]
  },
  {
   "cell_type": "markdown",
   "metadata": {},
   "source": [
    "## Average age and charges of parents"
   ]
  },
  {
   "cell_type": "code",
   "execution_count": 156,
   "metadata": {},
   "outputs": [
    {
     "name": "stdout",
     "output_type": "stream",
     "text": [
      "In our dataset the average age for parents with 1 child is 39\n",
      "In our dataset the average age for parents with 2 children is 39\n",
      "In our dataset the average age for parents with 3 children is 41\n",
      "In our dataset the average age for parents with 4 children is 39\n",
      "In our dataset the average age for parents with 5 children is 35\n",
      "In our dataset the average age for parents with 1 child is $12,731.00\n",
      "In our dataset the average age for parents with 2 children is $15,073.00\n",
      "In our dataset the average age for parents with 3 children is $15,355.00\n",
      "In our dataset the average age for parents with 4 children is $13,850.00\n",
      "In our dataset the average age for parents with 5 children is $8,786.00\n"
     ]
    }
   ],
   "source": [
    "# find avg age and charges for parents\n",
    "\n",
    "\n",
    "def make_parent_dict(pat_inf):\n",
    "    parent_dict ={\"1 child\":{},\"2 children\":{},\"3 children\":{},\"4 children\":{},\"5 children\":{}}    \n",
    "    ages_1 = []\n",
    "    charges_1=[]\n",
    "    ages_2=[]\n",
    "    charges_2=[]\n",
    "    ages_3=[]\n",
    "    charges_3=[]\n",
    "    ages_4=[]\n",
    "    charges_4=[]\n",
    "    ages_5=[]\n",
    "    charges_5=[]\n",
    "    for pat in pat_inf:\n",
    "        if pat_inf[pat][\"children\"] == \"1\":\n",
    "            ages_1.append(int(pat_inf[pat][\"age\"]))\n",
    "            charges_1.append(float(pat_inf[pat][\"charges\"]))\n",
    "        if pat_inf[pat][\"children\"] == \"2\":\n",
    "            ages_2.append(int(pat_inf[pat][\"age\"]))\n",
    "            charges_2.append(float(pat_inf[pat][\"charges\"]))\n",
    "        if pat_inf[pat][\"children\"] == \"3\":\n",
    "            ages_3.append(int(pat_inf[pat][\"age\"]))\n",
    "            charges_3.append(float(pat_inf[pat][\"charges\"]))\n",
    "        if pat_inf[pat][\"children\"] == \"4\":\n",
    "            ages_4.append(int(pat_inf[pat][\"age\"]))\n",
    "            charges_4.append(float(pat_inf[pat][\"charges\"]))\n",
    "        if pat_inf[pat][\"children\"] == \"5\":\n",
    "            ages_5.append(int(pat_inf[pat][\"age\"]))\n",
    "            charges_5.append(float(pat_inf[pat][\"charges\"]))\n",
    "    \n",
    "    parent_dict ={\"1 child\":{\"avg_age\":int(sum(ages_1)/len(ages_1)),\"avg_charges\":int(sum(charges_1)/len(charges_1))},\"2 children\":{\"avg_age\":int(sum(ages_2)/len(ages_2)),\"avg_charges\":int(sum(charges_2)/len(charges_2))},\"3 children\":{\"avg_age\":int(sum(ages_3)/len(ages_3)),\"avg_charges\":int(sum(charges_3)/len(charges_3))},\"4 children\":{\"avg_age\":int(sum(ages_4)/len(ages_4)),\"avg_charges\":int(sum(charges_4)/len(charges_4))},\"5 children\":{\"avg_age\":int(sum(ages_5)/len(ages_5)),\"avg_charges\":int(sum(charges_5)/len(charges_5))}} \n",
    "    return parent_dict\n",
    "\n",
    "parent_dict = make_parent_dict(pati_inf)\n",
    "#print(parent_dict)\n",
    "\n",
    "for k,v in parent_dict.items():\n",
    "    print(\"In our dataset the average age for parents with {} is {}\".format(k,v[\"avg_age\"]))\n",
    "    \n",
    "for k,v in parent_dict.items():\n",
    "    print(\"In our dataset the average age for parents with {} is ${:,.2f}\".format(k,v[\"avg_charges\"]))"
   ]
  }
 ],
 "metadata": {
  "kernelspec": {
   "display_name": "Python 3 (ipykernel)",
   "language": "python",
   "name": "python3"
  },
  "language_info": {
   "codemirror_mode": {
    "name": "ipython",
    "version": 3
   },
   "file_extension": ".py",
   "mimetype": "text/x-python",
   "name": "python",
   "nbconvert_exporter": "python",
   "pygments_lexer": "ipython3",
   "version": "3.10.7"
  }
 },
 "nbformat": 4,
 "nbformat_minor": 4
}
